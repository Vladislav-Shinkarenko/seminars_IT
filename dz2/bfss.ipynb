{
 "cells": [
  {
   "cell_type": "code",
   "execution_count": 52,
   "metadata": {},
   "outputs": [],
   "source": [
    "#графы\n",
    "\n",
    "edge_list = [\n",
    "    [0,1],[0,3],\n",
    "    [1,3],\n",
    "    [2,3],\n",
    "    [3,4],\n",
    "    [4,0],\n",
    "    [5,0]\n",
    "]\n",
    "\n",
    "vert_num = 6"
   ]
  },
  {
   "cell_type": "code",
   "execution_count": 53,
   "metadata": {},
   "outputs": [
    {
     "name": "stdout",
     "output_type": "stream",
     "text": [
      "adj_list - [[1, 3], [3], [3], [4], [0], [0]]\n"
     ]
    }
   ],
   "source": [
    "adj_list = [[] for _ in range(vert_num)]\n",
    "for u, v in edge_list:\n",
    "    adj_list[u].append(v)\n",
    "    #print(f'u - {u}, v - {v}')\n",
    "print('adj_list -',adj_list)"
   ]
  },
  {
   "cell_type": "code",
   "execution_count": 54,
   "metadata": {},
   "outputs": [
    {
     "name": "stdout",
     "output_type": "stream",
     "text": [
      "[0, 1, 0, 1, 0, 0]\n",
      "[0, 0, 0, 1, 0, 0]\n",
      "[0, 0, 0, 1, 0, 0]\n",
      "[0, 0, 0, 0, 1, 0]\n",
      "[1, 0, 0, 0, 0, 0]\n",
      "[1, 0, 0, 0, 0, 0]\n"
     ]
    }
   ],
   "source": [
    "adj_matrix = [[0 for _ in range(vert_num)] for _ in range(vert_num)]\n",
    "for u, v in edge_list:\n",
    "    adj_matrix[u][v] = 1\n",
    "for i in adj_matrix:\n",
    "    print(i, end = '\\n')\n",
    "#какая-то блять матрица"
   ]
  },
  {
   "cell_type": "code",
   "execution_count": 55,
   "metadata": {},
   "outputs": [],
   "source": [
    "g = adj_list\n",
    "parents = [None for _ in range(vert_num)]\n",
    "colors = ['w' for _ in range(vert_num)] \n",
    "timer = 0\n",
    "tin = [None for _ in range(vert_num)]\n",
    "tout = [None for _ in range(vert_num)]\n",
    "#куча списков"
   ]
  },
  {
   "cell_type": "code",
   "execution_count": 56,
   "metadata": {},
   "outputs": [
    {
     "name": "stdout",
     "output_type": "stream",
     "text": [
      "found cycle 4 -> 0\n",
      "None\n",
      "['b', 'b', 'w', 'b', 'b', 'w']\n"
     ]
    }
   ],
   "source": [
    "\n",
    "\n",
    "g = adj_list\n",
    "parents = [None for _ in range(vert_num)]\n",
    "colors = [\"w\" for _ in range(vert_num)]\n",
    "timer = 0\n",
    "tin = [None for _ in range(vert_num)]\n",
    "tout = [None for _ in range(vert_num)]\n",
    "def cycle(x, y, listik):\n",
    "    \n",
    "    otec = parents[x]\n",
    "    if otec == y:\n",
    "        listik.append(y)\n",
    "    else:\n",
    "        listik.append(otec)\n",
    "        cycle(otec, y, listik)\n",
    "    return listik\n",
    "    \n",
    "def dfs(v, p=-1):\n",
    "    listik = []\n",
    "    global timer\n",
    "    parents[v] = p\n",
    "    colors[v] = \"g\"\n",
    "    timer += 1\n",
    "    tin[v] = timer\n",
    "    for u in g[v]:\n",
    "        if colors[u] == \"g\":\n",
    "            otci = cycle(v, u, listik)\n",
    "            otci = otci[::-1]\n",
    "            otci.append(v)\n",
    "            otci.append(u)\n",
    "\n",
    "            \n",
    "            \n",
    "             \n",
    "            print(f\"found cycle {otci}\")\n",
    "            \n",
    "            continue\n",
    "        elif colors[u] == \"b\":\n",
    "            continue\n",
    "        elif colors[u] == \"w\":\n",
    "            dfs(u, v)\n",
    "    colors[v] = \"b\"\n",
    "    timer += 1\n",
    "    tout[v] = timer\n",
    "dfs(6)\n",
    "print(colors)\n",
    "print(tin)\n",
    "print(tout)\n"
   ]
  },
  {
   "cell_type": "code",
   "execution_count": null,
   "metadata": {},
   "outputs": [],
   "source": [
    "edge_list = [ \n",
    "             [0,1], [0,3], \n",
    "             [1,3], \n",
    "             [2,3], \n",
    "             [4,0], [4,3], \n",
    "             [5,0]\n",
    "]\n",
    "vert_num = 6"
   ]
  },
  {
   "cell_type": "code",
   "execution_count": null,
   "metadata": {},
   "outputs": [],
   "source": [
    "#список смежности\n",
    "adj_list = [[] for _ in range(vert_num)]\n",
    "for edge in edge_list:\n",
    "    u = edge[0]\n",
    "    v = edge[1]\n",
    "    adj_list[u].append(v)\n",
    "adj_list"
   ]
  },
  {
   "cell_type": "code",
   "execution_count": null,
   "metadata": {},
   "outputs": [],
   "source": [
    "g = adj_list\n",
    "parents = [None for _ in range(vert_num)]\n",
    "colors = [\"w\" for _ in range(vert_num)]\n",
    "timer = 0\n",
    "tin = [None for _ in range(vert_num)]\n",
    "tout = [None for _ in range(vert_num)]\n",
    "def top_sort():\n",
    "    for v in range(vert_num):\n",
    "        if colors[v] == \"w\":\n",
    "            dfs(v)\n",
    "\n",
    "    vert_list = [i for i in range(vert_num)]\n",
    "    ans =[\n",
    "        x for y, x in sorted(zip(tout, vert_list),\n",
    "key = lambda pair: pair[0], reverse = True)\n",
    "    ]\n",
    "    return ans\n",
    "top_sort()\n",
    "ts = top_sort()\n",
    "print(ts)"
   ]
  },
  {
   "cell_type": "code",
   "execution_count": null,
   "metadata": {},
   "outputs": [],
   "source": [
    "adj_list = [[1, 3], [3], [3], [], [0, 3], [0]]\n",
    "sum = 0\n",
    "\n",
    "\n",
    "def niga(n, sum, vert, adj_list):\n",
    "    while vert:\n",
    "        sum += n\n",
    "        x = vert.pop(0)\n",
    "        sum += niga(n + 1, 0, adj_list[x].copy(), adj_list.copy())\n",
    "\n",
    "    return sum\n",
    "\n",
    "\n",
    "path_num = [0, 1, 2, 3, 4, 5]\n",
    "paths_num = [niga(1, 0, adj_list[i].copy(), adj_list.copy()) for i in path_num]\n",
    "print(paths_num)    "
   ]
  }
 ],
 "metadata": {
  "kernelspec": {
   "display_name": "Python 3",
   "language": "python",
   "name": "python3"
  },
  "language_info": {
   "codemirror_mode": {
    "name": "ipython",
    "version": 3
   },
   "file_extension": ".py",
   "mimetype": "text/x-python",
   "name": "python",
   "nbconvert_exporter": "python",
   "pygments_lexer": "ipython3",
   "version": "3.11.5"
  }
 },
 "nbformat": 4,
 "nbformat_minor": 2
}
